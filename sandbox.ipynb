{
 "cells": [
  {
   "cell_type": "code",
   "id": "initial_id",
   "metadata": {
    "collapsed": true,
    "ExecuteTime": {
     "end_time": "2024-05-27T08:03:50.267727Z",
     "start_time": "2024-05-27T08:03:48.219826Z"
    }
   },
   "source": [
    "import json\n",
    "\n",
    "import matplotlib.pyplot as plt\n",
    "import numpy as np\n",
    "import pandas as pd\n",
    "import tensorflow as tf\n",
    "from tensorflow.keras import layers, losses\n",
    "\n",
    "_ = (json, plt, np, pd, tf, layers, losses)"
   ],
   "outputs": [],
   "execution_count": 1
  },
  {
   "metadata": {
    "ExecuteTime": {
     "end_time": "2024-05-27T08:03:50.293029Z",
     "start_time": "2024-05-27T08:03:50.268733Z"
    }
   },
   "cell_type": "code",
   "source": [
    "from pt_utils import main_predict\n",
    "from pt_char import text_layer"
   ],
   "id": "a0c04a6d09b3cbd2",
   "outputs": [],
   "execution_count": 2
  },
  {
   "metadata": {
    "ExecuteTime": {
     "end_time": "2024-05-27T08:03:50.495060Z",
     "start_time": "2024-05-27T08:03:50.294036Z"
    }
   },
   "cell_type": "code",
   "source": "main_predict('char_model.keras', 'char_voc.json', text_layer)",
   "id": "9787c3fc96b4d632",
   "outputs": [
    {
     "name": "stdout",
     "output_type": "stream",
     "text": [
      "\u001B[1m1/1\u001B[0m \u001B[32m━━━━━━━━━━━━━━━━━━━━\u001B[0m\u001B[37m\u001B[0m \u001B[1m0s\u001B[0m 107ms/step\n",
      "The movie was great!         : yes = 0.03 no = 0.97\n",
      "The movie was okay.          : yes = 0.01 no = 0.99\n",
      "The movie was terrible..     : yes = 0.02 no = 0.98\n",
      "PyCharm                      : yes = 0.00 no = 1.00\n",
      "Kaspersky Endpoint Security  : yes = 0.99 no = 0.01\n",
      "McAfee                       : yes = 0.93 no = 0.09\n",
      "McAfee antivirus             : yes = 1.00 no = 0.00\n",
      "Dr.Web                       : yes = 0.37 no = 0.61\n",
      "Dr.Web antivirus             : yes = 0.99 no = 0.01\n"
     ]
    }
   ],
   "execution_count": 3
  },
  {
   "metadata": {
    "ExecuteTime": {
     "end_time": "2024-05-27T08:03:50.497659Z",
     "start_time": "2024-05-27T08:03:50.495060Z"
    }
   },
   "cell_type": "code",
   "source": "",
   "id": "65a219b8ae2700fa",
   "outputs": [],
   "execution_count": 3
  }
 ],
 "metadata": {
  "kernelspec": {
   "display_name": "Python 3",
   "language": "python",
   "name": "python3"
  },
  "language_info": {
   "codemirror_mode": {
    "name": "ipython",
    "version": 2
   },
   "file_extension": ".py",
   "mimetype": "text/x-python",
   "name": "python",
   "nbconvert_exporter": "python",
   "pygments_lexer": "ipython2",
   "version": "2.7.6"
  }
 },
 "nbformat": 4,
 "nbformat_minor": 5
}
